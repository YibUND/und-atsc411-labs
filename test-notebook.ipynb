{
 "cells": [
  {
   "cell_type": "markdown",
   "id": "12505846-efd8-47d1-a56f-8c6079d3b20c",
   "metadata": {},
   "source": [
    "# Hello!\n",
    "\n",
    "### This is a simple test notebook you can try and run if you have set everything up correctly"
   ]
  },
  {
   "cell_type": "code",
   "execution_count": 2,
   "id": "f2165fa4-4be3-412d-94c2-a44f31faba83",
   "metadata": {},
   "outputs": [],
   "source": [
    "# import packages\n",
    "import random as rd"
   ]
  },
  {
   "cell_type": "code",
   "execution_count": 3,
   "id": "90dee95b-008e-449b-869d-01959fbb5615",
   "metadata": {},
   "outputs": [],
   "source": [
    "def are_we_cooked_tomorrow():\n",
    "    # create 3 instances of random numbers \n",
    "    # using the random package\n",
    "    num1 = rd.randrange(1, 5, 1)\n",
    "    num2 = rd.randrange(10, 200, 2)\n",
    "    num3 = rd.randrange(1, 10, 1)\n",
    "\n",
    "    # complete some simple math to calculate a single number\n",
    "    # we'll use as \"tomorrow's high temperature\"\n",
    "    highT = int((((num1 * num3) / num3) * num2) / num3)\n",
    "\n",
    "    # print the result in a nice message\n",
    "    if highT >= 40:\n",
    "        print(f\"You will be COOKED tomorrow with a high of {highT}°C\")\n",
    "    else:\n",
    "        print(f\"You'll be ok tomorrow with a high of {highT}°C\")"
   ]
  },
  {
   "cell_type": "code",
   "execution_count": 7,
   "id": "ba384ef3-bebb-47f6-aff6-34808cd5a273",
   "metadata": {},
   "outputs": [
    {
     "name": "stdout",
     "output_type": "stream",
     "text": [
      "You'll be ok tomorrow with a high of 24°C\n"
     ]
    }
   ],
   "source": [
    "# simply run this code-block!\n",
    "are_we_cooked_tomorrow()"
   ]
  },
  {
   "cell_type": "code",
   "execution_count": null,
   "id": "7490728e-4ef3-49bd-9c84-fa64036490ca",
   "metadata": {},
   "outputs": [],
   "source": []
  }
 ],
 "metadata": {
  "kernelspec": {
   "display_name": "Python 3 (ipykernel)",
   "language": "python",
   "name": "python3"
  },
  "language_info": {
   "codemirror_mode": {
    "name": "ipython",
    "version": 3
   },
   "file_extension": ".py",
   "mimetype": "text/x-python",
   "name": "python",
   "nbconvert_exporter": "python",
   "pygments_lexer": "ipython3",
   "version": "3.9.18"
  }
 },
 "nbformat": 4,
 "nbformat_minor": 5
}
